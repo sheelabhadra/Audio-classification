{
 "cells": [
  {
   "cell_type": "markdown",
   "metadata": {},
   "source": [
    "Reading an audio signal in real time"
   ]
  },
  {
   "cell_type": "code",
   "execution_count": null,
   "metadata": {
    "collapsed": false
   },
   "outputs": [],
   "source": [
    "import pyaudio\n",
    "import numpy as np\n",
    "from pyqtgraph.Qt import QtGui, QtCore\n",
    "import pyqtgraph as pg"
   ]
  },
  {
   "cell_type": "code",
   "execution_count": null,
   "metadata": {
    "collapsed": true
   },
   "outputs": [],
   "source": [
    "FORMAT = pyaudio.paInt16\n",
    "CHANNELS = 1\n",
    "RATE = 14100\n",
    "CHUNK = 1024\n",
    "MAX_PLOT_SIZE = CHUNK * 50"
   ]
  },
  {
   "cell_type": "code",
   "execution_count": null,
   "metadata": {
    "collapsed": false
   },
   "outputs": [],
   "source": [
    "# setup audio recording\n",
    "audio = pyaudio.PyAudio()\n",
    "\n",
    "# Read the audio input\n",
    "stream = audio.open(format=FORMAT, channels=CHANNELS, rate=RATE, input=True, frames_per_buffer=CHUNK)\n",
    "\n",
    "win = pg.GraphicsWindow()\n",
    "win.setWindowTitle(\"Microphone Audio Data\")\n",
    "\n",
    "# create a plot for the time domain data\n",
    "data_plot = win.addPlot(title=\"Audio Signal Vs Time\")\n",
    "data_plot.setXRange(0 ,MAX_PLOT_SIZE)\n",
    "data_plot.setLabel(axis=\"bottom\", text=\"Time(s)\")\n",
    "data_plot.setLabel(axis=\"left\", text=\"Signal amplitude\")\n",
    "data_plot.showGrid(True, True)\n",
    "data_plot.addLegend()\n",
    "time_curve = data_plot.plot(pen=(24,215,248), name = \"Time Domain Audio\")\n",
    "\n",
    "# create a plot for the frequency domain data\n",
    "win.nextRow()\n",
    "fft_plot = win.addPlot(title=\"Power Vs Frequency Domain\") \n",
    "fft_plot.setLabel(axis=\"bottom\", text=\"Frequency(Hz)\")\n",
    "fft_plot.setLabel(axis=\"left\", text=\"Log Power\")\n",
    "fft_plot.addLegend()\n",
    "fft_curve = fft_plot.plot(pen='y', name = \"Power Spectrum\")\n",
    "\n",
    "fft_plot.showGrid(True, True)\n",
    "total_data = []\n",
    "\n",
    "# power-frequency graph x-axis\n",
    "x_axis = RATE/CHUNK*np.linspace(0, CHUNK/2, CHUNK/2+1)\n",
    "\n",
    "# for counting the time step\n",
    "t = 1\n",
    "\n",
    "def get_data(total_data):\n",
    "    print(max(total_data))\n",
    "\n",
    "def update():\n",
    "    global stream, total_data, max_hold, t\n",
    "    \n",
    "    # read data\n",
    "    raw_data = stream.read(CHUNK)\n",
    "    \n",
    "    # convert raw bytes into integers\n",
    "    data_sample = np.fromstring(raw_data, dtype=np.int16)\n",
    "    total_data = np.concatenate([total_data, data_sample ])\n",
    "    \n",
    "    # remove old data\n",
    "    if len(total_data) > MAX_PLOT_SIZE:\n",
    "        total_data = total_data[CHUNK:]\n",
    "    time_curve.setData(total_data)\n",
    "    \n",
    "    # calculate the FFT\n",
    "    fft_data = data_sample * np.hanning(len(data_sample))\n",
    "    power_spectrum = 20 * np.log10(np.abs(np.fft.rfft(fft_data))/len(fft_data))\n",
    "    #power_spectrum = 20 * np.log10(np.abs(np.fft.rfft(fft_data)))\n",
    "    #print(power_spectrum)\n",
    "    fft_curve.setData(x=x_axis, y=power_spectrum)\n",
    "    #fft_plot.enableAutoRange('xy', False)\n",
    "    #fft_plot.setXRange(0 ,13.78*len(power_spectrum))\n",
    "    \n",
    "    #print(len(data_sample))\n",
    "    if t == 50:\n",
    "        get_data(total_data)\n",
    "        t = 1\n",
    "    t += 1\n",
    "    \n",
    "timer = QtCore.QTimer()\n",
    "timer.timeout.connect(update)\n",
    "timer.start(0)\n",
    "\n",
    "## Start Qt Event\n",
    "if __name__ == '__main__':\n",
    "    import sys\n",
    "    if (sys.flags.interactive != 1) or not hasattr(QtCore, 'PYQT_VERSION'):\n",
    "        QtGui.QApplication.instance().exec_()\n",
    "\n",
    "# stop Recording\n",
    "stream.stop_stream()\n",
    "stream.close()\n",
    "audio.terminate()\n"
   ]
  },
  {
   "cell_type": "code",
   "execution_count": null,
   "metadata": {
    "collapsed": false
   },
   "outputs": [],
   "source": [
    "# TO convert the x-axis of the power-frequency plot to frequency, convert the x-axis points to (x_value)*RATE/CHUNK\n",
    "# e.g. 100*14100/1024 = 1376.95 Hz"
   ]
  },
  {
   "cell_type": "code",
   "execution_count": null,
   "metadata": {
    "collapsed": true
   },
   "outputs": [],
   "source": []
  }
 ],
 "metadata": {
  "kernelspec": {
   "display_name": "Python 3",
   "language": "python",
   "name": "python3"
  },
  "language_info": {
   "codemirror_mode": {
    "name": "ipython",
    "version": 3
   },
   "file_extension": ".py",
   "mimetype": "text/x-python",
   "name": "python",
   "nbconvert_exporter": "python",
   "pygments_lexer": "ipython3",
   "version": "3.6.0"
  }
 },
 "nbformat": 4,
 "nbformat_minor": 2
}
